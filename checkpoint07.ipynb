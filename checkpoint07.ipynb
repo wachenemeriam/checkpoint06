#importing our dataset
import pandas as pd
dataset=pd.read_excel('titanic-passengers (1).xlsx')
dataset.head(5)
dataset.info()
dataset.describe
dataset.isnull().sum()
dataset = dataset.drop(columns='Cabin', axis=1)
dataset['Age'].fillna(dataset['Age'].mean(), inplace=True)
print(dataset['Embarked'].mode())
dataset['Embarked'].fillna(dataset['Embarked'].mode()[0], inplace=True)
dataset.replace({'Sex':{'male':0,'female':1}, 'Embarked':{'S':0,'C':1,'Q':2}}, inplace=True)
dataset= dataset.drop(columns = ['PassengerId','Name','Ticket','Survived'],axis=1)
from sklearn.model_selection import train_test_split
from sklearn import tree   
from sklearn.tree import DecisionTreeClassifier
from sklearn.metrics import accuracy_score
#features extraction
x=data.drop(["Survived", "Name", "Cabin", "Ticket", "Embarked"], axis=1)
y= data["Survived"]
#splitting data
x_train, x_test, y_train, y_test = train_test_split(x,y, test_size=0.20,random_state=10)
#applying tree algorithm
tree = tree.DecisionTreeClassifier()  
tree.fit(x_train, y_train)   #fitting our model
y_pred=tree.predict(x_test)   # evaluating our model
print("score:{}".format(accuracy_score(y_test, y_pred)))
from sklearn import tree
model = tree.DecisionTreeClassifier(random_state = 0)
model.fit(x_train, y_train)
dataset= DecisionTreeClassifier()
dataset= clf.fit(x_train,y_train)
dataset= clf.predict(x_test)
from sklearn import metrics
print("Accuracy:",metrics.accuracy_score(y_test, y_pred))
!pip install graphviz
import graphviz
dot_data=tree.export_graphviz(classifier, out_file=None)
graph= grahviz.Source(dot_data)
graph=render('data')
graph
dtree= tree.Decisiontreeclassifier(criterion='gini',split='random',max_leaf_noed=10,min_samples_leaf=5, max_depth=5)
from sklearn.model_selection import train_test_split
from sklearn.ensemble import RandomForestClassifier #Importing Random Forest Classifier
from sklearn import metrics  # Importing metrics to test accuracy
#features extraction
x=data.drop(["Survived", "Name", "Cabin", "Ticket", "Embarked"], axis=1)
y= data["Survived"]
#splitting data
x_train, x_test, y_train, y_test = train_test_split(x,y, test_size=0.20,random_state=10)
